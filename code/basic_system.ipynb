{
 "cells": [
  {
   "cell_type": "markdown",
   "metadata": {},
   "source": [
    "# Basic System\n",
    "\n",
    "This notebook provides code for implementing a very simple machine learning system for named entity recognition.\n",
    "It uses logistic regression and one feature (the token itself). "
   ]
  },
  {
   "cell_type": "code",
   "execution_count": 1,
   "metadata": {},
   "outputs": [],
   "source": [
    "from sklearn.linear_model import LogisticRegression\n",
    "from sklearn.feature_extraction import DictVectorizer\n",
    "import pandas as pd\n",
    "import sys"
   ]
  },
  {
   "cell_type": "code",
   "execution_count": 2,
   "metadata": {},
   "outputs": [],
   "source": [
    "def extract_features_and_labels(trainingfile: str):\n",
    "    '''\n",
    "    This function extracts features and their labels from a file.\n",
    "    \n",
    "    :param trainingfile: path to file with training data\n",
    "    \n",
    "    :returns: a list of extracted features, and a list of extracted target labels\n",
    "    '''\n",
    "    data = []\n",
    "    targets = []\n",
    "    with open(trainingfile, 'r', encoding='utf8') as infile:\n",
    "        for line in infile:\n",
    "            components = line.rstrip('\\n').split()\n",
    "            if len(components) > 0:\n",
    "                token = components[0]\n",
    "                feature_dict = {'token':token}\n",
    "                data.append(feature_dict)\n",
    "                #gold is in the last column\n",
    "                targets.append(components[-1])\n",
    "    return data, targets"
   ]
  },
  {
   "cell_type": "code",
   "execution_count": 3,
   "metadata": {},
   "outputs": [],
   "source": [
    "def extract_features(inputfile: str):\n",
    "    '''\n",
    "    This function extracts features from a file\n",
    "    \n",
    "    :param inputfile: path to file with input data\n",
    "    \n",
    "    :returns: a list of extracted features\n",
    "    '''\n",
    "    data = []\n",
    "    with open(inputfile, 'r', encoding='utf8') as infile:\n",
    "        for line in infile:\n",
    "            components = line.rstrip('\\n').split()\n",
    "            if len(components) > 0:\n",
    "                token = components[0]\n",
    "                feature_dict = {'token':token}\n",
    "                data.append(feature_dict)\n",
    "    return data"
   ]
  },
  {
   "cell_type": "code",
   "execution_count": 4,
   "metadata": {},
   "outputs": [],
   "source": [
    "def create_classifier(train_features, train_targets):\n",
    "    '''\n",
    "    This function creates a logistic regression classifier which is trained on the provided training data\n",
    "    \n",
    "    :param train_features: a list of training data features\n",
    "    :param train_targets: a list of training data target labels\n",
    "    \n",
    "    :returns: a trained logistic regression model and a DictVectorizer class which can be used to transform \n",
    "              feature representations so that they can be used as inputs for the model\n",
    "    '''\n",
    "    logreg = LogisticRegression(solver='liblinear')\n",
    "    vec = DictVectorizer()\n",
    "    #create sparse vectors for the training feautes\n",
    "    features_vectorized = vec.fit_transform(train_features)\n",
    "    model = logreg.fit(features_vectorized, train_targets)\n",
    "    \n",
    "    return model, vec"
   ]
  },
  {
   "cell_type": "code",
   "execution_count": 5,
   "metadata": {},
   "outputs": [],
   "source": [
    "def classify_data(model, vec, inputdata: str, outputfile: str):\n",
    "    '''\n",
    "    This function classifies data and saves the output\n",
    "    \n",
    "    :param model: a logistic regression model \n",
    "    :param vec: a DictVectorizer class which can be used to transform feature representations to vectors\n",
    "    :param inputdata: path to file with input data\n",
    "    :param outputfile: path to file in which model predictions are saved\n",
    "    '''  \n",
    "    features = extract_features(inputdata)\n",
    "    features = vec.transform(features)\n",
    "    #predict labels of input features\n",
    "    predictions = model.predict(features)\n",
    "    #save predicitions in output file\n",
    "    outfile = open(outputfile, 'w')\n",
    "    counter, firstline = 0, True\n",
    "    for line in open(inputdata, 'r'):\n",
    "        #insert a header to the newly added column\n",
    "        if firstline:\n",
    "            lastcolumn = int(line.rstrip('\\n')[-1])\n",
    "            new_colum = str(lastcolumn + 1)\n",
    "            outfile.write(line.rstrip('\\n') + '\\t' + new_colum  + '\\n')\n",
    "            firstline = False\n",
    "            continue\n",
    "        #add the predictions as a new column\n",
    "        if len(line.rstrip('\\n').split()) > 0:\n",
    "            outfile.write(line.rstrip('\\n') + '\\t' + predictions[counter] + '\\n')\n",
    "            counter += 1\n",
    "    outfile.close()"
   ]
  },
  {
   "cell_type": "code",
   "execution_count": 6,
   "metadata": {},
   "outputs": [],
   "source": [
    "def main(argv=None):\n",
    "    \n",
    "    #a very basic way for picking up commandline arguments\n",
    "    if argv is None:\n",
    "        argv = sys.argv\n",
    "\n",
    "    trainingfile = argv[1]\n",
    "    inputfile = argv[2]\n",
    "    outputfile = argv[3]\n",
    "    \n",
    "    #extract features\n",
    "    training_features, gold_labels = extract_features_and_labels(trainingfile)\n",
    "    #create model\n",
    "    ml_model, vec = create_classifier(training_features, gold_labels)\n",
    "    #classify and save data\n",
    "    classify_data(ml_model, vec, inputfile, outputfile)"
   ]
  },
  {
   "cell_type": "code",
   "execution_count": 8,
   "metadata": {},
   "outputs": [],
   "source": [
    "#create the model, training on the conll 2003 train data, and use the preprocessed dev data as test data\n",
    "args = ['python', '../data/conll2003.train.conll', '../data/conll2003.dev-preprocessed.conll', '../data/logistic_basic_output.conll']\n",
    "main(args)"
   ]
  }
 ],
 "metadata": {
  "kernelspec": {
   "display_name": "Python 3",
   "language": "python",
   "name": "python3"
  },
  "language_info": {
   "codemirror_mode": {
    "name": "ipython",
    "version": 3
   },
   "file_extension": ".py",
   "mimetype": "text/x-python",
   "name": "python",
   "nbconvert_exporter": "python",
   "pygments_lexer": "ipython3",
   "version": "3.8.5"
  }
 },
 "nbformat": 4,
 "nbformat_minor": 4
}
